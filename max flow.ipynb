{
 "cells": [
  {
   "cell_type": "markdown",
   "metadata": {},
   "source": [
    "## Coding the Maximum Flow Algorithm"
   ]
  },
  {
   "cell_type": "code",
   "execution_count": 101,
   "metadata": {},
   "outputs": [
    {
     "data": {
      "text/plain": [
       "'5'"
      ]
     },
     "execution_count": 101,
     "metadata": {},
     "output_type": "execute_result"
    }
   ],
   "source": [
    "#setting up the problem\n",
    "import random\n",
    "\n",
    "val = [[0,16, 13, 0, 0, 0],\n",
    "       [0, 0, 10, 12, 0, 0],\n",
    "       [0, 4, 0, 0, 14, 0],\n",
    "       [0, 0, 0, 0, 0, 20],\n",
    "       [0, 0, 0, 0, 0, 4],\n",
    "       [0, 0, 0, 0, 0, 0]] #this represents our edges and their relation to the nodes\n",
    "\n",
    "\n",
    "#i'm going to create a dictionary to represent the parent nodes\n",
    "#i will automate this at some point\n",
    "\n",
    "parent_nodes = {'1': ['0'], '2': ['1'], '3': ['1','2'], '4': ['2'], '5': ['3'], '6': ['4','5']}\n",
    "\n",
    "\n",
    "nodes = list(parent_nodes.keys())\n",
    "start_node = nodes[-1]\n",
    "\n",
    "options = parent_nodes[start_node]\n",
    "\n",
    "random.choice(options)\n",
    "\n"
   ]
  },
  {
   "cell_type": "code",
   "execution_count": 105,
   "metadata": {},
   "outputs": [
    {
     "name": "stdout",
     "output_type": "stream",
     "text": [
      "['6', '5', '3', '1']\n",
      "5 6\n",
      "['6', '5', '3', '1']\n",
      "3 5\n",
      "['6', '5', '3', '1']\n",
      "1 3\n"
     ]
    },
    {
     "data": {
      "text/plain": [
       "([4, 14, 13], 4, ['6', '5', '3', '1'])"
      ]
     },
     "execution_count": 105,
     "metadata": {},
     "output_type": "execute_result"
    }
   ],
   "source": [
    "# the algorithm\n",
    "import random\n",
    "\n",
    "\n",
    "def max_flow_iteration(nodes_edges,parent_nodes):\n",
    "    \n",
    "\n",
    "    #choosing a path\n",
    "    \n",
    "    nodes = list(parent_nodes.keys())\n",
    "    start_node = nodes[-1] \n",
    "    path = [start_node]\n",
    "    options = parent_nodes[start_node]\n",
    "\n",
    "\n",
    "    for i in range(len(nodes)):\n",
    "        \n",
    "        if parent_nodes[path[-1]] == ['0']:\n",
    "            break\n",
    "        \n",
    "        options = parent_nodes[path[-1]]\n",
    "        egde = random.choice(options)\n",
    "        \n",
    "        path.append(egde) \n",
    "        \n",
    "        \n",
    "    \n",
    "    #finding minimum from the path  \n",
    "        \n",
    "    k = 0\n",
    "    min_list = []\n",
    "    for i in range(len(path)-1):\n",
    "        \n",
    "        x = int(path[k+1])\n",
    "        y = int(path[k])\n",
    "        print(path)\n",
    "        \n",
    "        k += 1 \n",
    "        print(x,y)\n",
    "        min_list.append(nodes_edges[x-1][y-1])\n",
    "    \n",
    "    max_flow = min(min_list)\n",
    "        \n",
    "        \n",
    "    return min_list, max_flow, path\n",
    "\n",
    "\n",
    "max_flow_iteration(val,parent_nodes)\n",
    "    \n",
    "    \n",
    "    \n",
    "    \n",
    "\n",
    "\n"
   ]
  },
  {
   "cell_type": "code",
   "execution_count": 117,
   "metadata": {},
   "outputs": [
    {
     "name": "stdout",
     "output_type": "stream",
     "text": [
      "['6', '4', '2', '1']\n",
      "4 6\n",
      "['6', '4', '2', '1']\n",
      "2 4\n",
      "['6', '4', '2', '1']\n",
      "1 2\n",
      "4 6\n"
     ]
    },
    {
     "ename": "IndexError",
     "evalue": "list index out of range",
     "output_type": "error",
     "traceback": [
      "\u001b[0;31m---------------------------------------------------------------------------\u001b[0m",
      "\u001b[0;31mIndexError\u001b[0m                                Traceback (most recent call last)",
      "\u001b[0;32m<ipython-input-117-ddc8d4860adb>\u001b[0m in \u001b[0;36m<module>\u001b[0;34m\u001b[0m\n\u001b[1;32m     24\u001b[0m     \u001b[0;32mreturn\u001b[0m \u001b[0mpath\u001b[0m\u001b[0;34m,\u001b[0m \u001b[0mnew_nodes_edges\u001b[0m\u001b[0;34m\u001b[0m\u001b[0;34m\u001b[0m\u001b[0m\n\u001b[1;32m     25\u001b[0m \u001b[0;34m\u001b[0m\u001b[0m\n\u001b[0;32m---> 26\u001b[0;31m \u001b[0mmax_flow\u001b[0m\u001b[0;34m(\u001b[0m\u001b[0mval\u001b[0m\u001b[0;34m)\u001b[0m\u001b[0;34m\u001b[0m\u001b[0;34m\u001b[0m\u001b[0m\n\u001b[0m",
      "\u001b[0;32m<ipython-input-117-ddc8d4860adb>\u001b[0m in \u001b[0;36mmax_flow\u001b[0;34m(nodes_edges)\u001b[0m\n\u001b[1;32m     17\u001b[0m \u001b[0;34m\u001b[0m\u001b[0m\n\u001b[1;32m     18\u001b[0m \u001b[0;34m\u001b[0m\u001b[0m\n\u001b[0;32m---> 19\u001b[0;31m         \u001b[0mnew_nodes_edges\u001b[0m\u001b[0;34m[\u001b[0m\u001b[0mx\u001b[0m\u001b[0;34m]\u001b[0m\u001b[0;34m[\u001b[0m\u001b[0my\u001b[0m\u001b[0;34m]\u001b[0m \u001b[0;34m=\u001b[0m \u001b[0mnodes_edges\u001b[0m\u001b[0;34m[\u001b[0m\u001b[0mx\u001b[0m\u001b[0;34m]\u001b[0m\u001b[0;34m[\u001b[0m\u001b[0my\u001b[0m\u001b[0;34m]\u001b[0m \u001b[0;34m-\u001b[0m \u001b[0mmax_flow\u001b[0m\u001b[0;34m\u001b[0m\u001b[0;34m\u001b[0m\u001b[0m\n\u001b[0m\u001b[1;32m     20\u001b[0m \u001b[0;34m\u001b[0m\u001b[0m\n\u001b[1;32m     21\u001b[0m         \u001b[0mmin_list\u001b[0m\u001b[0;34m.\u001b[0m\u001b[0mappend\u001b[0m\u001b[0;34m(\u001b[0m\u001b[0mnodes_edges\u001b[0m\u001b[0;34m[\u001b[0m\u001b[0mx\u001b[0m\u001b[0;34m]\u001b[0m\u001b[0;34m[\u001b[0m\u001b[0my\u001b[0m\u001b[0;34m]\u001b[0m\u001b[0;34m)\u001b[0m\u001b[0;34m\u001b[0m\u001b[0;34m\u001b[0m\u001b[0m\n",
      "\u001b[0;31mIndexError\u001b[0m: list index out of range"
     ]
    }
   ],
   "source": [
    "\n",
    "def max_flow(nodes_edges):\n",
    "    \n",
    "    min_list,max_flow,path = max_flow_iteration(val,parent_nodes)\n",
    "    \n",
    "    new_nodes_edges = [['0', '0', '0', '0', '0', '0'],\n",
    "                       ['0', '0', '0', '0', '0', '0'],\n",
    "                       ['0', '0', '0', '0', '0', '0'],\n",
    "                       ['0', '0', '0', '0', '0', '0'],\n",
    "                       ['0', '0', '0', '0', '0', '0'],\n",
    "                       ['0', '0', '0', '0', '0', '0']]\n",
    "    \n",
    "    \n",
    "    \n",
    "    k=0\n",
    "    for i in range(len(path)-1):\n",
    "        \n",
    "        x = int(path[k+1])\n",
    "        y = int(path[k])\n",
    "        print(x,y)\n",
    "\n",
    "        \n",
    "        new_nodes_edges[x][y] = nodes_edges[x][y] - max_flow \n",
    "        \n",
    "        min_list.append(nodes_edges[x][y])\n",
    "        k+=1\n",
    "\n",
    "    return path, new_nodes_edges\n",
    "    \n",
    "max_flow(val)"
   ]
  },
  {
   "cell_type": "code",
   "execution_count": null,
   "metadata": {},
   "outputs": [],
   "source": []
  },
  {
   "cell_type": "code",
   "execution_count": null,
   "metadata": {},
   "outputs": [],
   "source": []
  }
 ],
 "metadata": {
  "kernelspec": {
   "display_name": "Python 3",
   "language": "python",
   "name": "python3"
  },
  "language_info": {
   "codemirror_mode": {
    "name": "ipython",
    "version": 3
   },
   "file_extension": ".py",
   "mimetype": "text/x-python",
   "name": "python",
   "nbconvert_exporter": "python",
   "pygments_lexer": "ipython3",
   "version": "3.7.4"
  }
 },
 "nbformat": 4,
 "nbformat_minor": 2
}
